{
 "cells": [
  {
   "cell_type": "code",
   "execution_count": 1,
   "metadata": {
    "collapsed": true
   },
   "outputs": [],
   "source": [
    "#import display\n",
    "from IPython.display import clear_output\n",
    "\n",
    "# global/static variables\n",
    "board = [' '] * 26\n",
    "game_state = True\n",
    "announce = ''"
   ]
  },
  {
   "cell_type": "code",
   "execution_count": 2,
   "metadata": {
    "collapsed": true
   },
   "outputs": [],
   "source": [
    "'''\n",
    "allow players to start a new game \n",
    "discard zero index so player may use 5 x 5 grid seen below\n",
    "'''\n",
    "def reset_board():\n",
    "    global board,game_state\n",
    "    board = [' '] * 26\n",
    "    game_state = True"
   ]
  },
  {
   "cell_type": "code",
   "execution_count": 3,
   "metadata": {},
   "outputs": [],
   "source": [
    "#just using functions, create game board\n",
    "def display_board():\n",
    "    #to ensure starting afresh with each new game\n",
    "    clear_output()\n",
    "    #display the game board, with numbers below each cell so players may avoid confusion\n",
    "    print \"  \"+board[21]+\" || \"+board[22]+\" || \"+board[23]+\" || \"+board[24]+\" || \"+board[25]+\" \"\n",
    "    print \"----------------------------\"\n",
    "    print \"1   2   3   4   5\"\n",
    "    print \"----------------------------\"\n",
    "    print \"  \"+board[16]+\" || \"+board[17]+\" || \"+board[18]+\" || \"+board[19]+\" || \"+board[20]+\" \"\n",
    "    print \"----------------------------\"\n",
    "    print \"6   7   8   9   10\"\n",
    "    print \"----------------------------\"\n",
    "    print \"  \"+board[11]+\" || \"+board[12]+\" || \"+board[13]+\" || \"+board[14]+\" || \"+board[15]+\" \"\n",
    "    print \"----------------------------\"\n",
    "    print \"11  12  13  14  15\"\n",
    "    print \"----------------------------\"\n",
    "    print \"  \"+board[6]+\" || \"+board[7]+\" || \"+board[8]+\" || \"+board[9]+\" || \"+board[10]+\" \"\n",
    "    print \"----------------------------\"\n",
    "    print \"16  17  18  19  20\"\n",
    "    print \"----------------------------\"\n",
    "    print \"  \"+board[1]+\" || \"+board[2]+\" || \"+board[3]+\" || \"+board[4]+\" || \"+board[5]+\" \"\n",
    "    print \"                            \"\n",
    "    print \"21  22  23  24  25\"\n"
   ]
  },
  {
   "cell_type": "code",
   "execution_count": 4,
   "metadata": {},
   "outputs": [
    {
     "ename": "SyntaxError",
     "evalue": "invalid syntax (<ipython-input-4-66438f634794>, line 4)",
     "output_type": "error",
     "traceback": [
      "\u001b[1;36m  File \u001b[1;32m\"<ipython-input-4-66438f634794>\"\u001b[1;36m, line \u001b[1;32m4\u001b[0m\n\u001b[1;33m    if (board[1] ==  board[7] ==  board[13] ==  board[19] ==  board[25] ==  player) or         (board[5] ==  board[9] ==  board[13] ==  board[17] ==  board[21] ==  player) or\u001b[0m\n\u001b[1;37m                                                                                                                                                                                       ^\u001b[0m\n\u001b[1;31mSyntaxError\u001b[0m\u001b[1;31m:\u001b[0m invalid syntax\n"
     ]
    }
   ],
   "source": [
    "def win_check(board, player):\n",
    "    ''' Check for 5 in succession on Horizontal, Vertical, and Diagonal cells  \n",
    "    \n",
    "    This is where I am uncertain if a limitation of Udemy's particular Jupyter Notebook inhibits progress. \n",
    "    Needs further investigation.\n",
    "    \n",
    "    '''\n",
    "   \n",
    "    if (board[1] ==  board[7] ==  board[13] ==  board[19] ==  board[25] ==  player) or \\\n",
    "        (board[5] ==  board[9] ==  board[13] ==  board[17] ==  board[21] ==  player) or \\\n",
    "        \n",
    "        (board[1] ==  board[2] ==  board[3] ==  board[4] == board[5] == player) or \\\n",
    "        (board[6] ==  board[7] ==  board[8] ==  board[9] == board[10] == player) or \\\n",
    "        (board[11] ==  board[12] ==  board[13] ==  board[14] == board[15] ==  player) or \\\n",
    "        (board[16] ==  board[17] ==  board[18] ==  board[19] == board[20] == player) or \\\n",
    "        (board[21] ==  board[22] ==  board[23] ==  board[24] == board[25] == player) or \\\n",
    "        \n",
    "        (board[1] ==  board[6] ==  board[11] ==  board[16] == board[21] == player) or\\\n",
    "        (board[2] ==  board[7] ==  board[12] ==  board[17] == board[22] == player) or \\\n",
    "        (board[3] ==  board[8] ==  board[13] ==  board[18] == board[23] ==  player) or \\\n",
    "        (board[4] ==  board[9] ==  board[14] ==  board[19] == board[24] == player) or \\\n",
    "        (board[5] ==  board[10] ==  board[15] ==  board[20] == board[25] == player): \n",
    "            \n",
    "        return True\n",
    "    else:\n",
    "        return False"
   ]
  },
  {
   "cell_type": "code",
   "execution_count": 5,
   "metadata": {
    "collapsed": true
   },
   "outputs": [],
   "source": [
    "def full_board_check(board):\n",
    "    #check for any remaining blanks \n",
    "    if \" \" in board[1:]:\n",
    "        #reminder - zero remains empty in this case\n",
    "        return False\n",
    "    else:\n",
    "        return True\n"
   ]
  },
  {
   "cell_type": "code",
   "execution_count": null,
   "metadata": {
    "collapsed": true
   },
   "outputs": [],
   "source": [
    "def ask_player(mark):\n",
    "    ''' Asks player where to place X or O mark, checks validity '''\n",
    "    global board\n",
    "    req = 'Choose where to place your: ' + mark\n",
    "    while True:\n",
    "        try:\n",
    "            choice = int(raw_input(req))\n",
    "        except ValueError:\n",
    "            print(\"Sorry, please input a number between 1-25.\")\n",
    "            continue\n",
    "\n",
    "        if choice not in range(1,26):\n",
    "            print(\"Sorry, please input a number between 1-25.\")\n",
    "            continue\n",
    "\n",
    "        if board[choice] == \" \":\n",
    "            board[choice] = mark\n",
    "            break\n",
    "        else:\n",
    "            print \"That space isn't available!\"\n",
    "            continue\n",
    "            "
   ]
  },
  {
   "cell_type": "code",
   "execution_count": null,
   "metadata": {
    "collapsed": true
   },
   "outputs": [],
   "source": [
    "def player_choice(mark):\n",
    "    global board,game_state,announce\n",
    "    #Set game - blank game announcement\n",
    "    announce = ''\n",
    "    #Get Player Input/Mark\n",
    "    mark = str(mark)\n",
    "    # Validate input\n",
    "    ask_player(mark)\n",
    "    \n",
    "    #Check for winning mark/player\n",
    "    if win_check(board,mark):\n",
    "        clear_output()\n",
    "        display_board()\n",
    "        announce = mark +\" wins! Congratulations!\"\n",
    "        game_state = False\n",
    "        \n",
    "    #Show the board\n",
    "    clear_output()\n",
    "    display_board()\n",
    "\n",
    "    #Check for a tie \n",
    "    if full_board_check(board):\n",
    "        announce = \"Tie!\"\n",
    "        game_state = False\n",
    "        \n",
    "    return game_state,announce\n",
    "    \n",
    "    "
   ]
  },
  {
   "cell_type": "code",
   "execution_count": null,
   "metadata": {
    "collapsed": true
   },
   "outputs": [],
   "source": [
    "def play_game():\n",
    "    reset_board()\n",
    "    global announce\n",
    "    \n",
    "    # Establish marks\n",
    "    X='X'\n",
    "    O='O'\n",
    "    while True:\n",
    "        # Show the board\n",
    "        clear_output()\n",
    "        display_board()\n",
    "        \n",
    "        # Player X turn\n",
    "        game_state,announce = player_choice(X)\n",
    "        print announce\n",
    "        if game_state == False:\n",
    "            break\n",
    "            \n",
    "        # Player O turn\n",
    "        game_state,announce = player_choice(O)\n",
    "        print announce\n",
    "        if game_state == False:\n",
    "            break\n",
    "            \n",
    "    # Ask player for a rematch\n",
    "    rematch = raw_input('Would you like to play again? y/n')\n",
    "    if rematch == 'y':\n",
    "        play_game()\n",
    "    else:\n",
    "        print \"Thanks for playing!\"\n"
   ]
  },
  {
   "cell_type": "code",
   "execution_count": null,
   "metadata": {
    "collapsed": true
   },
   "outputs": [],
   "source": [
    "play_game()"
   ]
  }
 ],
 "metadata": {
  "kernelspec": {
   "display_name": "Python 2",
   "language": "python",
   "name": "python2"
  },
  "language_info": {
   "codemirror_mode": {
    "name": "ipython",
    "version": 2
   },
   "file_extension": ".py",
   "mimetype": "text/x-python",
   "name": "python",
   "nbconvert_exporter": "python",
   "pygments_lexer": "ipython2",
   "version": "2.7.14"
  }
 },
 "nbformat": 4,
 "nbformat_minor": 2
}
