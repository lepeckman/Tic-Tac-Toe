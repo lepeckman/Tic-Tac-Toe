{
 "cells": [
  {
   "cell_type": "code",
   "execution_count": 1,
   "metadata": {
    "collapsed": true
   },
   "outputs": [],
   "source": [
    "#import display\n",
    "from IPython.display import clear_output\n",
    "\n",
    "# global/static variables\n",
    "board = [' '] * 10\n",
    "game_state = True\n",
    "announce = ''"
   ]
  },
  {
   "cell_type": "code",
   "execution_count": 2,
   "metadata": {
    "collapsed": true
   },
   "outputs": [],
   "source": [
    "'''\n",
    "allow players to start a new game \n",
    "discard zero index so player may use 3 x 3 grid of number pad as game board\n",
    "'''\n",
    "def reset_board():\n",
    "    global board,game_state\n",
    "    board = [' '] * 10\n",
    "    game_state = True"
   ]
  },
  {
   "cell_type": "code",
   "execution_count": 3,
   "metadata": {
    "collapsed": true
   },
   "outputs": [],
   "source": [
    "#just using functions, create game board\n",
    "def display_board():\n",
    "    #to ensure starting afresh with each new game\n",
    "    clear_output()\n",
    "    #display the game board\n",
    "    print \"  \"+board[7]+\" || \"+board[8]+\" || \"+board[9]+\" \"\n",
    "    print \"==============\"\n",
    "    print \"  \"+board[4]+\" || \"+board[5]+\" || \"+board[6]+\" \"\n",
    "    print \"==============\"\n",
    "    print \"  \"+board[1]+\" || \"+board[2]+\" || \"+board[3]+\" \""
   ]
  },
  {
   "cell_type": "code",
   "execution_count": 4,
   "metadata": {
    "collapsed": true
   },
   "outputs": [],
   "source": [
    "def win_check(board, player):\n",
    "    ''' Check for 3 in succession on Horizontal, Vertical, and Diagonal cells  '''\n",
    "    if (board[7]  ==  board[8] ==  board[9] == player) or \\\n",
    "        (board[4] ==  board[5] ==  board[6] == player) or \\\n",
    "        (board[1] ==  board[2] ==  board[3] == player) or \\\n",
    "        (board[7] ==  board[4] ==  board[1] == player) or \\\n",
    "        (board[8] ==  board[5] ==  board[2] == player) or \\\n",
    "        (board[9] ==  board[6] ==  board[3] == player) or \\\n",
    "        (board[1] ==  board[5] ==  board[9] == player) or \\\n",
    "        (board[3] ==  board[5] ==  board[7] == player):\n",
    "        return True\n",
    "    else:\n",
    "        return False"
   ]
  },
  {
   "cell_type": "code",
   "execution_count": 5,
   "metadata": {
    "collapsed": true
   },
   "outputs": [],
   "source": [
    "def full_board_check(board):\n",
    "    #check for any remaining blanks \n",
    "    if \" \" in board[1:]:\n",
    "        #reminder - zero remains empty in this case\n",
    "        return False\n",
    "    else:\n",
    "        return True"
   ]
  },
  {
   "cell_type": "code",
   "execution_count": 6,
   "metadata": {
    "collapsed": true
   },
   "outputs": [],
   "source": [
    "def ask_player(mark):\n",
    "    ''' Asks player where to place X or O mark, checks validity '''\n",
    "    global board\n",
    "    req = 'Choose where to place your: ' + mark\n",
    "    while True:\n",
    "        try:\n",
    "            choice = int(raw_input(req))\n",
    "        except ValueError:\n",
    "            print(\"Sorry, please input a number between 1-9.\")\n",
    "            continue\n",
    "\n",
    "        if choice not in range(1,10):\n",
    "            print(\"Sorry, please input a number between 1-9.\")\n",
    "            continue\n",
    "\n",
    "        if board[choice] == \" \":\n",
    "            board[choice] = mark\n",
    "            break\n",
    "        else:\n",
    "            print \"That space isn't available!\"\n",
    "            continue"
   ]
  },
  {
   "cell_type": "code",
   "execution_count": 7,
   "metadata": {
    "collapsed": true
   },
   "outputs": [],
   "source": [
    "def player_choice(mark):\n",
    "    global board,game_state,announce\n",
    "    #Set game - blank game announcement\n",
    "    announce = ''\n",
    "    #Get Player Input/Mark\n",
    "    mark = str(mark)\n",
    "    # Validate input\n",
    "    ask_player(mark)\n",
    "    \n",
    "    #Check for winning mark/player\n",
    "    if win_check(board,mark):\n",
    "        clear_output()\n",
    "        display_board()\n",
    "        announce = mark +\" wins! Congratulations!\"\n",
    "        game_state = False\n",
    "        \n",
    "    #Show the board\n",
    "    clear_output()\n",
    "    display_board()\n",
    "\n",
    "    #Check for a tie \n",
    "    if full_board_check(board):\n",
    "        announce = \"Tie!\"\n",
    "        game_state = False\n",
    "        \n",
    "    return game_state,announce"
   ]
  },
  {
   "cell_type": "code",
   "execution_count": null,
   "metadata": {
    "collapsed": true
   },
   "outputs": [],
   "source": [
    "def play_game():\n",
    "    reset_board()\n",
    "    global announce\n",
    "    \n",
    "    # Establish marks\n",
    "    X='X'\n",
    "    O='O'\n",
    "    while True:\n",
    "        # Show the board\n",
    "        clear_output()\n",
    "        display_board()\n",
    "        \n",
    "        # Player X turn\n",
    "        game_state,announce = player_choice(X)\n",
    "        print announce\n",
    "        if game_state == False:\n",
    "            break\n",
    "            \n",
    "        # Player O turn\n",
    "        game_state,announce = player_choice(O)\n",
    "        print announce\n",
    "        if game_state == False:\n",
    "            break\n",
    "            \n",
    "    # Ask player for a rematch\n",
    "    rematch = raw_input('Would you like to play again? y/n')\n",
    "    if rematch == 'y':\n",
    "        play_game()\n",
    "    else:\n",
    "        print \"Thanks for playing!\""
   ]
  },
  {
   "cell_type": "code",
   "execution_count": null,
   "metadata": {},
   "outputs": [
    {
     "name": "stdout",
     "output_type": "stream",
     "text": [
      "    ||   ||   \n",
      "==============\n",
      "    ||   ||   \n",
      "==============\n",
      "    ||   ||   \n"
     ]
    }
   ],
   "source": [
    "play_game()"
   ]
  }
 ],
 "metadata": {
  "kernelspec": {
   "display_name": "Python 2",
   "language": "python",
   "name": "python2"
  },
  "language_info": {
   "codemirror_mode": {
    "name": "ipython",
    "version": 2
   },
   "file_extension": ".py",
   "mimetype": "text/x-python",
   "name": "python",
   "nbconvert_exporter": "python",
   "pygments_lexer": "ipython2",
   "version": "2.7.14"
  }
 },
 "nbformat": 4,
 "nbformat_minor": 2
}
